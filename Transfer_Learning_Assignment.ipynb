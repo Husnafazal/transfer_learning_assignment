{
  "nbformat": 4,
  "nbformat_minor": 0,
  "metadata": {
    "colab": {
      "provenance": []
    },
    "kernelspec": {
      "name": "python3",
      "display_name": "Python 3"
    },
    "language_info": {
      "name": "python"
    }
  },
  "cells": [
    {
      "cell_type": "code",
      "execution_count": null,
      "metadata": {
        "id": "z3H7lkYWHOPy"
      },
      "outputs": [],
      "source": [
        "import numpy as np\n",
        "import pandas as pd\n",
        "import matplotlib.pyplot as plt\n",
        "import seaborn as sns\n",
        "import os\n",
        "\n",
        "from tensorflow.keras.preprocessing.image import ImageDataGenerator\n",
        "from tensorflow.keras.models import Sequential\n",
        "from tensorflow.keras.layers import Conv2D, MaxPooling2D, Flatten, Dense, Dropout\n",
        "from tensorflow.keras.optimizers import Adam\n",
        "from tensorflow.keras.callbacks import EarlyStopping, ModelCheckpoint\n",
        "\n"
      ]
    },
    {
      "cell_type": "markdown",
      "source": [
        " Set Up Kaggle Dataset Path"
      ],
      "metadata": {
        "id": "IsoE_4CHv3N3"
      }
    },
    {
      "cell_type": "code",
      "source": [
        "!pip install opendatasets kaggle\n"
      ],
      "metadata": {
        "colab": {
          "base_uri": "https://localhost:8080/"
        },
        "id": "8Hx4b8Tuh1dv",
        "outputId": "f6733bf7-8b2d-41de-8bf5-439afef6ffb5"
      },
      "execution_count": 15,
      "outputs": [
        {
          "output_type": "stream",
          "name": "stdout",
          "text": [
            "Collecting opendatasets\n",
            "  Downloading opendatasets-0.1.22-py3-none-any.whl (15 kB)\n",
            "Requirement already satisfied: kaggle in /usr/local/lib/python3.10/dist-packages (1.6.12)\n",
            "Requirement already satisfied: tqdm in /usr/local/lib/python3.10/dist-packages (from opendatasets) (4.66.2)\n",
            "Requirement already satisfied: click in /usr/local/lib/python3.10/dist-packages (from opendatasets) (8.1.7)\n",
            "Requirement already satisfied: six>=1.10 in /usr/local/lib/python3.10/dist-packages (from kaggle) (1.16.0)\n",
            "Requirement already satisfied: certifi>=2023.7.22 in /usr/local/lib/python3.10/dist-packages (from kaggle) (2024.2.2)\n",
            "Requirement already satisfied: python-dateutil in /usr/local/lib/python3.10/dist-packages (from kaggle) (2.8.2)\n",
            "Requirement already satisfied: requests in /usr/local/lib/python3.10/dist-packages (from kaggle) (2.31.0)\n",
            "Requirement already satisfied: python-slugify in /usr/local/lib/python3.10/dist-packages (from kaggle) (8.0.4)\n",
            "Requirement already satisfied: urllib3 in /usr/local/lib/python3.10/dist-packages (from kaggle) (2.0.7)\n",
            "Requirement already satisfied: bleach in /usr/local/lib/python3.10/dist-packages (from kaggle) (6.1.0)\n",
            "Requirement already satisfied: webencodings in /usr/local/lib/python3.10/dist-packages (from bleach->kaggle) (0.5.1)\n",
            "Requirement already satisfied: text-unidecode>=1.3 in /usr/local/lib/python3.10/dist-packages (from python-slugify->kaggle) (1.3)\n",
            "Requirement already satisfied: charset-normalizer<4,>=2 in /usr/local/lib/python3.10/dist-packages (from requests->kaggle) (3.3.2)\n",
            "Requirement already satisfied: idna<4,>=2.5 in /usr/local/lib/python3.10/dist-packages (from requests->kaggle) (3.7)\n",
            "Installing collected packages: opendatasets\n",
            "Successfully installed opendatasets-0.1.22\n"
          ]
        }
      ]
    },
    {
      "cell_type": "code",
      "source": [
        "import opendatasets as od\n",
        "\n",
        "\n",
        "# Downloading the Chest X-Ray Images (Pneumonia) dataset from Kaggle\n",
        "dataset_url = 'https://www.kaggle.com/paultimothymooney/chest-xray-pneumonia'\n",
        "od.download(dataset_url)\n",
        "\n"
      ],
      "metadata": {
        "colab": {
          "base_uri": "https://localhost:8080/"
        },
        "id": "_2HUb8EriACT",
        "outputId": "91d5c41d-0128-454b-fe44-87c9bb196ec5"
      },
      "execution_count": 17,
      "outputs": [
        {
          "output_type": "stream",
          "name": "stdout",
          "text": [
            "Please provide your Kaggle credentials to download this dataset. Learn more: http://bit.ly/kaggle-creds\n",
            "Your Kaggle username: husnaahmed\n",
            "Your Kaggle Key: ··········\n",
            "Dataset URL: https://www.kaggle.com/datasets/paultimothymooney/chest-xray-pneumonia\n",
            "Downloading chest-xray-pneumonia.zip to ./chest-xray-pneumonia\n"
          ]
        },
        {
          "output_type": "stream",
          "name": "stderr",
          "text": [
            "100%|██████████| 2.29G/2.29G [00:36<00:00, 66.9MB/s]\n"
          ]
        },
        {
          "output_type": "stream",
          "name": "stdout",
          "text": [
            "\n"
          ]
        }
      ]
    },
    {
      "cell_type": "markdown",
      "source": [
        "Import Necessary Libraries"
      ],
      "metadata": {
        "id": "TJc3kflvyosM"
      }
    },
    {
      "cell_type": "code",
      "source": [
        "import os\n",
        "import numpy as np\n",
        "import matplotlib.pyplot as plt\n",
        "from tensorflow.keras.preprocessing.image import ImageDataGenerator\n",
        "from tensorflow.keras.models import Sequential\n",
        "from tensorflow.keras.layers import Conv2D, MaxPooling2D, Flatten, Dense\n"
      ],
      "metadata": {
        "id": "Yqwg4Ccowl2K"
      },
      "execution_count": 52,
      "outputs": []
    },
    {
      "cell_type": "markdown",
      "source": [
        "2. Define Directories and Data Generators"
      ],
      "metadata": {
        "id": "SpVdXQb0ykf9"
      }
    },
    {
      "cell_type": "markdown",
      "source": [],
      "metadata": {
        "id": "qtZbrOEEynO7"
      }
    },
    {
      "cell_type": "code",
      "source": [
        "# Define directory where dataset is located (adjust path as per your setup)\n",
        "dataset_dir = './chest-xray-pneumonia/chest_xray'\n",
        "\n",
        "# Define data generators with augmentation and normalization\n",
        "train_datagen = ImageDataGenerator(\n",
        "    rescale=1./255,\n",
        "    shear_range=0.2,\n",
        "    zoom_range=0.2,\n",
        "    horizontal_flip=True)\n",
        "\n",
        "test_datagen = ImageDataGenerator(rescale=1./255)\n",
        "\n",
        "# Load and augment data\n",
        "train_data = train_datagen.flow_from_directory(\n",
        "    os.path.join(dataset_dir, 'train'),\n",
        "    target_size=(224, 224),\n",
        "    batch_size=32,\n",
        "    class_mode='binary')\n",
        "\n",
        "test_data = test_datagen.flow_from_directory(\n",
        "    os.path.join(dataset_dir, 'test'),\n",
        "    target_size=(224, 224),\n",
        "    batch_size=32,\n",
        "    class_mode='binary')\n"
      ],
      "metadata": {
        "colab": {
          "base_uri": "https://localhost:8080/"
        },
        "id": "lJ6tb8-Px1eY",
        "outputId": "084c89b3-31ad-4565-fedf-daa2add1fc96"
      },
      "execution_count": 53,
      "outputs": [
        {
          "output_type": "stream",
          "name": "stdout",
          "text": [
            "Found 5216 images belonging to 2 classes.\n",
            "Found 624 images belonging to 2 classes.\n"
          ]
        }
      ]
    },
    {
      "cell_type": "markdown",
      "source": [
        "3. Build and Compile the Model"
      ],
      "metadata": {
        "id": "WMqsDsjnygzA"
      }
    },
    {
      "cell_type": "code",
      "source": [
        "# Define the model architecture\n",
        "model = Sequential([\n",
        "    Conv2D(32, (3, 3), activation='relu', input_shape=(224, 224, 3)),\n",
        "    MaxPooling2D((2, 2)),\n",
        "    Conv2D(64, (3, 3), activation='relu'),\n",
        "    MaxPooling2D((2, 2)),\n",
        "    Conv2D(128, (3, 3), activation='relu'),\n",
        "    MaxPooling2D((2, 2)),\n",
        "    Conv2D(128, (3, 3), activation='relu'),\n",
        "    MaxPooling2D((2, 2)),\n",
        "    Flatten(),\n",
        "    Dense(512, activation='relu'),\n",
        "    Dense(1, activation='sigmoid')  # Binary classification\n",
        "])\n",
        "\n",
        "# Compile the model\n",
        "model.compile(optimizer='adam',\n",
        "              loss='binary_crossentropy',\n",
        "              metrics=['accuracy'])\n"
      ],
      "metadata": {
        "id": "QfK1HTV7x43F"
      },
      "execution_count": 55,
      "outputs": []
    },
    {
      "cell_type": "markdown",
      "source": [
        "4. Train the Model"
      ],
      "metadata": {
        "id": "tcrKgyOEyaSL"
      }
    },
    {
      "cell_type": "code",
      "source": [
        "# Train the model\n",
        "history = model.fit(train_data,\n",
        "                    epochs=10,\n",
        "                    validation_data=test_data)\n"
      ],
      "metadata": {
        "colab": {
          "base_uri": "https://localhost:8080/"
        },
        "id": "nj9vc6ihx-xB",
        "outputId": "a14d962a-2b0b-4624-ff71-07b41ba67caf"
      },
      "execution_count": 56,
      "outputs": [
        {
          "output_type": "stream",
          "name": "stdout",
          "text": [
            "Epoch 1/10\n",
            "163/163 [==============================] - 783s 5s/step - loss: 0.4071 - accuracy: 0.8206 - val_loss: 0.4753 - val_accuracy: 0.8413\n",
            "Epoch 2/10\n",
            "163/163 [==============================] - 808s 5s/step - loss: 0.2277 - accuracy: 0.9080 - val_loss: 0.3902 - val_accuracy: 0.8349\n",
            "Epoch 3/10\n",
            "163/163 [==============================] - 792s 5s/step - loss: 0.1960 - accuracy: 0.9220 - val_loss: 0.6486 - val_accuracy: 0.7965\n",
            "Epoch 4/10\n",
            "163/163 [==============================] - 808s 5s/step - loss: 0.1811 - accuracy: 0.9321 - val_loss: 0.5452 - val_accuracy: 0.8189\n",
            "Epoch 5/10\n",
            "163/163 [==============================] - 756s 5s/step - loss: 0.1593 - accuracy: 0.9375 - val_loss: 0.2516 - val_accuracy: 0.9087\n",
            "Epoch 6/10\n",
            "163/163 [==============================] - 747s 5s/step - loss: 0.1506 - accuracy: 0.9434 - val_loss: 0.4204 - val_accuracy: 0.8542\n",
            "Epoch 7/10\n",
            "163/163 [==============================] - 746s 5s/step - loss: 0.1323 - accuracy: 0.9486 - val_loss: 0.6433 - val_accuracy: 0.8333\n",
            "Epoch 8/10\n",
            "163/163 [==============================] - 751s 5s/step - loss: 0.1453 - accuracy: 0.9442 - val_loss: 0.6586 - val_accuracy: 0.7869\n",
            "Epoch 9/10\n",
            "163/163 [==============================] - 753s 5s/step - loss: 0.1323 - accuracy: 0.9479 - val_loss: 0.2587 - val_accuracy: 0.9199\n",
            "Epoch 10/10\n",
            "163/163 [==============================] - 759s 5s/step - loss: 0.1216 - accuracy: 0.9526 - val_loss: 0.3750 - val_accuracy: 0.8862\n"
          ]
        }
      ]
    },
    {
      "cell_type": "markdown",
      "source": [
        "5. Evaluate Model Performance"
      ],
      "metadata": {
        "id": "VHpRVmEayXGj"
      }
    },
    {
      "cell_type": "code",
      "source": [
        "# Evaluate model on test data\n",
        "loss, accuracy = model.evaluate(test_data)\n",
        "print(f'Test accuracy: {accuracy}')\n"
      ],
      "metadata": {
        "colab": {
          "base_uri": "https://localhost:8080/"
        },
        "id": "0PTn4WBMyBlG",
        "outputId": "1187e244-8c01-4fce-baa9-ad17bb495f8f"
      },
      "execution_count": 57,
      "outputs": [
        {
          "output_type": "stream",
          "name": "stdout",
          "text": [
            "20/20 [==============================] - 27s 1s/step - loss: 0.3750 - accuracy: 0.8862\n",
            "Test accuracy: 0.8862179517745972\n"
          ]
        }
      ]
    },
    {
      "cell_type": "markdown",
      "source": [
        "6. Visualize Training History (Optional)"
      ],
      "metadata": {
        "id": "zMYbXWbDyNQB"
      }
    },
    {
      "cell_type": "code",
      "source": [
        "# Plot training and validation accuracy\n",
        "plt.figure(figsize=(10, 6))\n",
        "plt.plot(history.history['accuracy'], label='Training Accuracy')\n",
        "plt.plot(history.history['val_accuracy'], label='Validation Accuracy')\n",
        "plt.title('Training and Validation Accuracy')\n",
        "plt.xlabel('Epoch')\n",
        "plt.ylabel('Accuracy')\n",
        "plt.legend()\n",
        "plt.show()\n"
      ],
      "metadata": {
        "colab": {
          "base_uri": "https://localhost:8080/",
          "height": 480
        },
        "id": "r3yd1L2TyH5D",
        "outputId": "bf15c5de-ec02-4aa2-a7ac-524ace35fbac"
      },
      "execution_count": 58,
      "outputs": [
        {
          "output_type": "display_data",
          "data": {
            "text/plain": [
              "<Figure size 1000x600 with 1 Axes>"
            ],
            "image/png": "[encoded data removed]"
          },
          "metadata": {}
        }
      ]
    },
    {
      "cell_type": "markdown",
      "source": [],
      "metadata": {
        "id": "72-H_xz3wRR5"
      }
    }
  ]
}